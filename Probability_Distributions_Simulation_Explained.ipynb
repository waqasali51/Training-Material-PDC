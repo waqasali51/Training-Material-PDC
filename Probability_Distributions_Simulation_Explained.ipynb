{
 "cells": [
  {
   "cell_type": "markdown",
   "id": "d914dfbb",
   "metadata": {},
   "source": [
    "# Probability Distributions Simulation and Visualization\n",
    "\n",
    "In this notebook, we will explore three common probability distributions: Normal, Binomial, and Poisson. \n",
    "We will simulate data for each distribution, visualize the data, and provide explanations for each distribution and their differences.\n"
   ]
  },
  {
   "cell_type": "code",
   "execution_count": null,
   "id": "30236bcb",
   "metadata": {},
   "outputs": [],
   "source": [
    "import numpy as np\n",
    "import matplotlib.pyplot as plt\n",
    "import seaborn as sns\n",
    "from scipy.stats import norm, binom, poisson\n",
    "\n",
    "# Setting Seaborn style for better aesthetics\n",
    "sns.set(style=\"whitegrid\")\n"
   ]
  },
  {
   "cell_type": "markdown",
   "id": "a174d7c0",
   "metadata": {},
   "source": [
    "## Normal Distribution\n",
    "\n",
    "The Normal distribution, also known as the Gaussian distribution, is a continuous probability distribution characterized by a bell-shaped curve. \n",
    "It is defined by two parameters: the mean (μ) and the standard deviation (σ).\n",
    "\n",
    "### Parameters:\n",
    "- Mean (μ): 0\n",
    "- Standard Deviation (σ): 1\n",
    "- Number of samples: 1000\n",
    "\n",
    "```python\n",
    "# Simulate Normal Distribution\n",
    "mu = 0      # Mean\n",
    "sigma = 1   # Standard Deviation\n",
    "size = 1000 # Number of samples\n",
    "normal_samples = np.random.normal(mu, sigma, size)\n",
    "\n",
    "# Plotting the distribution\n",
    "plt.figure(figsize=(10, 6))\n",
    "sns.histplot(normal_samples, bins=30, kde=True, color='blue')\n",
    "plt.title('Normal Distribution')\n",
    "plt.xlabel('Value')\n",
    "plt.ylabel('Frequency')\n",
    "plt.show()\n",
    "```\n"
   ]
  },
  {
   "cell_type": "markdown",
   "id": "f8c87da6",
   "metadata": {},
   "source": [
    "### Simulating Normal Distribution"
   ]
  },
  {
   "cell_type": "code",
   "execution_count": null,
   "id": "259779cb",
   "metadata": {},
   "outputs": [],
   "source": [
    "\n",
    "# Simulate Normal Distribution\n",
    "mu = 0      # Mean\n",
    "sigma = 1   # Standard Deviation\n",
    "size = 1000 # Number of samples\n",
    "normal_samples = np.random.normal(mu, sigma, size)\n",
    "\n",
    "# Plotting the distribution\n",
    "plt.figure(figsize=(10, 6))\n",
    "sns.histplot(normal_samples, bins=30, kde=True, color='blue')\n",
    "plt.title('Normal Distribution')\n",
    "plt.xlabel('Value')\n",
    "plt.ylabel('Frequency')\n",
    "plt.show()\n"
   ]
  },
  {
   "cell_type": "markdown",
   "id": "ab2e7ebe",
   "metadata": {},
   "source": [
    "## Binomial Distribution\n",
    "\n",
    "The Binomial distribution is a discrete probability distribution that models the number of successes in a fixed number of independent \n",
    "Bernoulli trials, each with the same probability of success.\n",
    "\n",
    "### Parameters:\n",
    "- Number of trials (n): 10\n",
    "- Probability of success (p): 0.5\n",
    "- Number of samples: 1000\n",
    "\n",
    "```python\n",
    "# Simulate Binomial Distribution\n",
    "n = 10      # Number of trials\n",
    "p = 0.5     # Probability of success\n",
    "size = 1000 # Number of samples\n",
    "binomial_samples = np.random.binomial(n, p, size)\n",
    "\n",
    "# Plotting the distribution\n",
    "plt.figure(figsize=(10, 6))\n",
    "sns.histplot(binomial_samples, bins=n+1, kde=False, color='green')\n",
    "plt.title('Binomial Distribution')\n",
    "plt.xlabel('Number of Successes')\n",
    "plt.ylabel('Frequency')\n",
    "plt.show()\n",
    "```\n"
   ]
  },
  {
   "cell_type": "markdown",
   "id": "ceefc24b",
   "metadata": {},
   "source": [
    "### Simulating Binomial Distribution"
   ]
  },
  {
   "cell_type": "code",
   "execution_count": null,
   "id": "d64bc19f",
   "metadata": {},
   "outputs": [],
   "source": [
    "\n",
    "# Simulate Binomial Distribution\n",
    "n = 10      # Number of trials\n",
    "p = 0.5     # Probability of success\n",
    "size = 1000 # Number of samples\n",
    "binomial_samples = np.random.binomial(n, p, size)\n",
    "\n",
    "# Plotting the distribution\n",
    "plt.figure(figsize=(10, 6))\n",
    "sns.histplot(binomial_samples, bins=n+1, kde=False, color='green')\n",
    "plt.title('Binomial Distribution')\n",
    "plt.xlabel('Number of Successes')\n",
    "plt.ylabel('Frequency')\n",
    "plt.show()\n"
   ]
  },
  {
   "cell_type": "markdown",
   "id": "c5a04667",
   "metadata": {},
   "source": [
    "## Poisson Distribution\n",
    "\n",
    "The Poisson distribution is a discrete probability distribution that models the number of events occurring within a fixed interval \n",
    "of time or space, given the average number of times the event occurs over that interval.\n",
    "\n",
    "### Parameters:\n",
    "- Rate or known number of occurrences (λ): 3\n",
    "- Number of samples: 1000\n",
    "\n",
    "```python\n",
    "# Simulate Poisson Distribution\n",
    "lambda_ = 3  # Rate or known number of occurrences\n",
    "size = 1000  # Number of samples\n",
    "poisson_samples = np.random.poisson(lambda_, size)\n",
    "\n",
    "# Plotting the distribution\n",
    "plt.figure(figsize=(10, 6))\n",
    "sns.histplot(poisson_samples, bins=30, kde=False, color='red')\n",
    "plt.title('Poisson Distribution')\n",
    "plt.xlabel('Number of Events')\n",
    "plt.ylabel('Frequency')\n",
    "plt.show()\n",
    "```\n"
   ]
  },
  {
   "cell_type": "markdown",
   "id": "24ba7796",
   "metadata": {},
   "source": [
    "### Simulating Poisson Distribution"
   ]
  },
  {
   "cell_type": "code",
   "execution_count": null,
   "id": "b9d6877c",
   "metadata": {},
   "outputs": [],
   "source": [
    "\n",
    "# Simulate Poisson Distribution\n",
    "lambda_ = 3  # Rate or known number of occurrences\n",
    "size = 1000  # Number of samples\n",
    "poisson_samples = np.random.poisson(lambda_, size)\n",
    "\n",
    "# Plotting the distribution\n",
    "plt.figure(figsize=(10, 6))\n",
    "sns.histplot(poisson_samples, bins=30, kde=False, color='red')\n",
    "plt.title('Poisson Distribution')\n",
    "plt.xlabel('Number of Events')\n",
    "plt.ylabel('Frequency')\n",
    "plt.show()\n"
   ]
  },
  {
   "cell_type": "markdown",
   "id": "9adc0d54",
   "metadata": {},
   "source": [
    "## Combined Visualization\n",
    "\n",
    "To provide a comparative view, we will visualize all three distributions in a single figure.\n",
    "\n",
    "```python\n",
    "# Combined Visualization\n",
    "fig, axs = plt.subplots(3, 1, figsize=(10, 18))\n",
    "\n",
    "# Normal Distribution\n",
    "sns.histplot(normal_samples, bins=30, kde=True, color='blue', ax=axs[0])\n",
    "axs[0].set_title('Normal Distribution')\n",
    "axs[0].set_xlabel('Value')\n",
    "axs[0].set_ylabel('Frequency')\n",
    "\n",
    "# Binomial Distribution\n",
    "sns.histplot(binomial_samples, bins=n+1, kde=False, color='green', ax=axs[1])\n",
    "axs[1].set_title('Binomial Distribution')\n",
    "axs[1].set_xlabel('Number of Successes')\n",
    "axs[1].set_ylabel('Frequency')\n",
    "\n",
    "# Poisson Distribution\n",
    "sns.histplot(poisson_samples, bins=30, kde=False, color='red', ax=axs[2])\n",
    "axs[2].set_title('Poisson Distribution')\n",
    "axs[2].set_xlabel('Number of Events')\n",
    "axs[2].set_ylabel('Frequency')\n",
    "\n",
    "plt.tight_layout()\n",
    "plt.show()\n",
    "```\n"
   ]
  },
  {
   "cell_type": "markdown",
   "id": "2f360b38",
   "metadata": {},
   "source": [
    "### Combined Visualization"
   ]
  },
  {
   "cell_type": "code",
   "execution_count": null,
   "id": "8259bb38",
   "metadata": {},
   "outputs": [],
   "source": [
    "\n",
    "# Combined Visualization\n",
    "fig, axs = plt.subplots(3, 1, figsize=(10, 18))\n",
    "\n",
    "# Normal Distribution\n",
    "sns.histplot(normal_samples, bins=30, kde=True, color='blue', ax=axs[0])\n",
    "axs[0].set_title('Normal Distribution')\n",
    "axs[0].set_xlabel('Value')\n",
    "axs[0].set_ylabel('Frequency')\n",
    "\n",
    "# Binomial Distribution\n",
    "sns.histplot(binomial_samples, bins=n+1, kde=False, color='green', ax=axs[1])\n",
    "axs[1].set_title('Binomial Distribution')\n",
    "axs[1].set_xlabel('Number of Successes')\n",
    "axs[1].set_ylabel('Frequency')\n",
    "\n",
    "# Poisson Distribution\n",
    "sns.histplot(poisson_samples, bins=30, kde=False, color='red', ax=axs[2])\n",
    "axs[2].set_title('Poisson Distribution')\n",
    "axs[2].set_xlabel('Number of Events')\n",
    "axs[2].set_ylabel('Frequency')\n",
    "\n",
    "plt.tight_layout()\n",
    "plt.show()\n"
   ]
  }
 ],
 "metadata": {},
 "nbformat": 4,
 "nbformat_minor": 5
}
